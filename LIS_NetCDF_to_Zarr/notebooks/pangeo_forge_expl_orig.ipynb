{
 "cells": [
  {
   "cell_type": "markdown",
   "id": "successful-success",
   "metadata": {},
   "source": [
    "# Pangeo Forge Exploration\n",
    "\n",
    "Learning how to use Pangeo Forge by following the basic NetCDF -> Zarr tutorial: https://pangeo-forge.readthedocs.io/en/latest/tutorials/netcdf_zarr_sequential.html"
   ]
  },
  {
   "cell_type": "code",
   "execution_count": null,
   "id": "rapid-night",
   "metadata": {},
   "outputs": [],
   "source": [
    "import s3fs, tempfile, logging\n",
    "\n",
    "from tqdm.notebook import tqdm\n",
    "\n",
    "# from dask.distributed import Client\n",
    "\n",
    "from fsspec.implementations.local import LocalFileSystem\n",
    "\n",
    "from pangeo_forge_recipes.patterns import pattern_from_file_sequence\n",
    "from pangeo_forge_recipes.recipes import XarrayZarrRecipe\n",
    "from pangeo_forge_recipes.storage import FSSpecTarget, CacheFSSpecTarget, MetadataTarget, StorageConfig\n",
    "\n",
    "import pandas as pd\n",
    "import numpy as np\n",
    "import xarray as xr"
   ]
  },
  {
   "cell_type": "code",
   "execution_count": null,
   "id": "crucial-armstrong",
   "metadata": {},
   "outputs": [],
   "source": [
    "s3 = s3fs.S3FileSystem(anon=False)"
   ]
  },
  {
   "cell_type": "markdown",
   "id": "informative-track",
   "metadata": {},
   "source": [
    "Enable logging so we can monitor progress:"
   ]
  },
  {
   "cell_type": "code",
   "execution_count": null,
   "id": "favorite-numbers",
   "metadata": {},
   "outputs": [],
   "source": [
    "debug = False\n",
    "\n",
    "if debug:\n",
    "    logger = logging.getLogger('pangeo_forge_recipes')\n",
    "    formatter = logging.Formatter('%(name)s:%(levelname)s - %(message)s')\n",
    "    handler = logging.StreamHandler()\n",
    "    handler.setLevel(logging.INFO)\n",
    "    handler.setFormatter(formatter)\n",
    "    logger.setLevel(logging.INFO)\n",
    "    logger.addHandler(handler)"
   ]
  },
  {
   "cell_type": "markdown",
   "id": "selected-yemen",
   "metadata": {},
   "source": [
    "Glob a list of input file URLs:"
   ]
  },
  {
   "cell_type": "code",
   "execution_count": null,
   "id": "stretch-fellow",
   "metadata": {
    "tags": []
   },
   "outputs": [],
   "source": [
    "# define filesystem protocol\n",
    "protocol = 's3://'\n",
    "\n",
    "# define bucket name\n",
    "bucket = 'eis-dh-hydro'\n",
    "\n",
    "# define input directory within bucket\n",
    "netcdf_dir = 'LIS_NETCDF'\n",
    "ds_dir = 'DELTA_2km/7CONST_RA_LAKE/ROUTING'\n",
    "\n",
    "# define url pattern\n",
    "url_pattern = protocol + '/'.join([bucket, netcdf_dir, ds_dir, '**/LIS_HIST*.nc'])\n",
    "\n",
    "# build input urls\n",
    "input_urls = [protocol + s for s in s3.glob(url_pattern)]\n",
    "\n",
    "# inspect a url\n",
    "input_urls[0]"
   ]
  },
  {
   "cell_type": "markdown",
   "id": "executive-theory",
   "metadata": {},
   "source": [
    "Create a Pangeo Forge `pattern`:"
   ]
  },
  {
   "cell_type": "code",
   "execution_count": null,
   "id": "advised-medline",
   "metadata": {},
   "outputs": [],
   "source": [
    "# define recipe file pattern\n",
    "pattern = pattern_from_file_sequence(input_urls, 'time', nitems_per_file=1)\n",
    "\n",
    "pattern"
   ]
  },
  {
   "cell_type": "markdown",
   "id": "dense-british",
   "metadata": {},
   "source": [
    "Inspect the data in the pattern:"
   ]
  },
  {
   "cell_type": "code",
   "execution_count": null,
   "id": "equal-burden",
   "metadata": {},
   "outputs": [],
   "source": [
    "# pattern is designed to be iterated over, so get the first key:\n",
    "for key in pattern:\n",
    "    break\n",
    "key"
   ]
  },
  {
   "cell_type": "markdown",
   "id": "cloudy-phrase",
   "metadata": {},
   "source": [
    "Inspect the pattern key:"
   ]
  },
  {
   "cell_type": "code",
   "execution_count": null,
   "id": "monetary-diagram",
   "metadata": {},
   "outputs": [],
   "source": [
    "pattern[key]"
   ]
  },
  {
   "cell_type": "markdown",
   "id": "comfortable-basic",
   "metadata": {},
   "source": [
    "Define preprocesing functions:"
   ]
  },
  {
   "cell_type": "code",
   "execution_count": null,
   "id": "fitted-criticism",
   "metadata": {},
   "outputs": [],
   "source": [
    "# define preprocessing function\n",
    "\n",
    "def add_latlon_coords(ds: xr.Dataset)->xr.Dataset:\n",
    "    \"\"\"Adds lat/lon as dimensions and coordinates to an xarray.Dataset object.\"\"\"\n",
    "    \n",
    "    # get attributes from dataset\n",
    "    attrs = ds.attrs\n",
    "    \n",
    "    # get x, y resolutions\n",
    "    dx = round(float(attrs['DX']), 3)\n",
    "    dy = round(float(attrs['DY']), 3)\n",
    "    \n",
    "    # get grid cells in x, y dimensions\n",
    "    ew_len = len(ds['east_west'])\n",
    "    ns_len = len(ds['north_south'])\n",
    "    \n",
    "    # get lower-left lat and lon\n",
    "    ll_lat = round(float(attrs['SOUTH_WEST_CORNER_LAT']), 3)\n",
    "    ll_lon = round(float(attrs['SOUTH_WEST_CORNER_LON']), 3)\n",
    "    \n",
    "    # calculate upper-right lat and lon\n",
    "    ur_lat =  ll_lat + (dy * ns_len)\n",
    "    ur_lon = ll_lon + (dx * ew_len)\n",
    "    \n",
    "    # define the new coordinates\n",
    "    coords = {\n",
    "        # create an arrays containing the lat/lon at each gridcell\n",
    "        'lat': np.linspace(ll_lat, ur_lat, ns_len, dtype=np.float32, endpoint=False),\n",
    "        'lon': np.linspace(ll_lon, ur_lon, ew_len, dtype=np.float32, endpoint=False)\n",
    "    }\n",
    "    \n",
    "    lon_attrs = ds.lon.attrs\n",
    "    lat_attrs = ds.lat.attrs\n",
    "    \n",
    "    # rename the original lat and lon variables\n",
    "    ds = ds.rename({'lon':'orig_lon', 'lat':'orig_lat'})\n",
    "    # rename the grid dimensions to lat and lon\n",
    "    ds = ds.rename({'north_south': 'lat', 'east_west': 'lon'})\n",
    "    # assign the coords above as coordinates\n",
    "    ds = ds.assign_coords(coords)\n",
    "    ds.lon.attrs = lon_attrs\n",
    "    ds.lat.attrs = lat_attrs\n",
    "    \n",
    "    return ds"
   ]
  },
  {
   "cell_type": "code",
   "execution_count": null,
   "id": "korean-generation",
   "metadata": {},
   "outputs": [],
   "source": [
    "fs_local = LocalFileSystem()\n",
    "\n",
    "temp_dir = '/home/jovyan/efs/tmp'\n",
    "fs_temp = CacheFSSpecTarget(fs_local, temp_dir)\n",
    "\n",
    "zarr_dir = 'TEMP'\n",
    "zarr_name = 'rechunk_test.zarr'\n",
    "\n",
    "target_path = '/'.join(['eis-dh-sealevel', zarr_dir, ds_dir, zarr_name])\n",
    "fs_target = FSSpecTarget(fs=s3, root_path=target_path)\n",
    "\n",
    "meta_dir = tempfile.TemporaryDirectory(dir=temp_dir)\n",
    "fs_meta = MetadataTarget(fs_local, meta_dir.name)\n",
    "\n",
    "storage_config = StorageConfig(\n",
    "    fs_target,\n",
    "    fs_temp,\n",
    "    fs_meta\n",
    ")"
   ]
  },
  {
   "cell_type": "markdown",
   "id": "beginning-couple",
   "metadata": {},
   "source": [
    "Define the chunking scheme for the target Zarr store:"
   ]
  },
  {
   "cell_type": "code",
   "execution_count": null,
   "id": "informal-leader",
   "metadata": {},
   "outputs": [],
   "source": [
    "target_chunks = {'time': 100, 'lon': 100, 'lat': 100}"
   ]
  },
  {
   "cell_type": "markdown",
   "id": "confirmed-karma",
   "metadata": {},
   "source": [
    "Create the `XarrayZarrRecipe`:"
   ]
  },
  {
   "cell_type": "code",
   "execution_count": null,
   "id": "social-scholarship",
   "metadata": {},
   "outputs": [],
   "source": [
    "recipe = XarrayZarrRecipe(pattern,                         # file URL pattern\n",
    "                          inputs_per_chunk=100,            # input files per chunk\n",
    "                          storage_config=storage_config,   # storage configuration for caches and target\n",
    "                          process_chunk=add_latlon_coords, # preprocess func\n",
    "                          cache_inputs=False,              # read inputs directly from S3\n",
    "                          target_chunks=target_chunks)     # set chunking scheme for output"
   ]
  },
  {
   "cell_type": "markdown",
   "id": "several-smell",
   "metadata": {},
   "source": [
    "Inspect the recipe:"
   ]
  },
  {
   "cell_type": "code",
   "execution_count": null,
   "id": "similar-employee",
   "metadata": {},
   "outputs": [],
   "source": [
    "recipe"
   ]
  },
  {
   "cell_type": "code",
   "execution_count": null,
   "id": "popular-programming",
   "metadata": {},
   "outputs": [],
   "source": [
    "all_inputs = list(recipe.iter_inputs())\n",
    "len(all_inputs)"
   ]
  },
  {
   "cell_type": "code",
   "execution_count": null,
   "id": "demonstrated-mineral",
   "metadata": {},
   "outputs": [],
   "source": [
    "all_chunks = list(recipe.iter_chunks())\n",
    "len(all_chunks)"
   ]
  },
  {
   "cell_type": "code",
   "execution_count": null,
   "id": "lined-airport",
   "metadata": {},
   "outputs": [],
   "source": [
    "# for input_file in recipe.inputs_for_chunk(all_chunks[0]):\n",
    "#     recipe.cache_input(input_file)"
   ]
  },
  {
   "cell_type": "code",
   "execution_count": null,
   "id": "exact-rocket",
   "metadata": {
    "tags": []
   },
   "outputs": [],
   "source": [
    "# with recipe.open_chunk(all_chunks[0]) as ds:\n",
    "#     display(ds)\n",
    "#     ds.load()"
   ]
  },
  {
   "cell_type": "code",
   "execution_count": null,
   "id": "express-stream",
   "metadata": {
    "tags": []
   },
   "outputs": [],
   "source": [
    "%xmode minimal\n",
    "with recipe.open_chunk(all_chunks[0]) as ds:\n",
    "    display(ds)"
   ]
  },
  {
   "cell_type": "code",
   "execution_count": null,
   "id": "stopped-movement",
   "metadata": {
    "tags": []
   },
   "outputs": [],
   "source": [
    "recipe.prepare_target()"
   ]
  },
  {
   "cell_type": "code",
   "execution_count": null,
   "id": "earned-particle",
   "metadata": {},
   "outputs": [],
   "source": [
    "import zarr\n",
    "# zgroup = zarr.open(target_dir.name)\n",
    "zgroup = zarr.open_consolidated('s3://' + target_path)\n",
    "print(zgroup.tree())"
   ]
  },
  {
   "cell_type": "code",
   "execution_count": null,
   "id": "otherwise-individual",
   "metadata": {
    "tags": []
   },
   "outputs": [],
   "source": [
    "for chunk in tqdm(recipe.iter_chunks(), total=len(all_chunks)):\n",
    "    recipe.store_chunk(chunk)\n",
    "    \n",
    "recipe.finalize_target()"
   ]
  },
  {
   "cell_type": "code",
   "execution_count": null,
   "id": "sensitive-house",
   "metadata": {},
   "outputs": [],
   "source": []
  }
 ],
 "metadata": {
  "kernelspec": {
   "display_name": "Python [conda env:pangeo_forge_env]",
   "language": "python",
   "name": "conda-env-pangeo_forge_env-py"
  },
  "language_info": {
   "codemirror_mode": {
    "name": "ipython",
    "version": 3
   },
   "file_extension": ".py",
   "mimetype": "text/x-python",
   "name": "python",
   "nbconvert_exporter": "python",
   "pygments_lexer": "ipython3",
   "version": "3.8.8"
  }
 },
 "nbformat": 4,
 "nbformat_minor": 5
}
